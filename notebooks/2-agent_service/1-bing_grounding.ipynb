{
  "cells": [
    {
      "cell_type": "markdown",
      "id": "intro-bing-grounding",
      "metadata": {},
      "source": [
        "# 🎓 Agente de Recomendacion de Cursos 🎓\n",
        "\n",
        "Bienvenidos al curso **Agente de Recomendacion de Cursos**. En este módulo, veremos cómo:\n",
        "\n",
        "1. **Inicializar** un proyecto usando Azure AI Foundry.\n",
        "2. **Crear un Agente** que utiliza la herramienta **BingGroundingTool** para realizar búsquedas en la web.\n",
        "3. **Realizar preguntas reales** sobre temas de salud y bienestar.\n",
        "4. **Recuperar y mostrar** respuestas, incluyendo enlaces a consultas de Bing y descargos de responsabilidad.\n",
        "\n",
        "### ⚠️ Nota Importante sobre Modelos Compatibles ⚠️\n",
        "> Actualmente, la funcionalidad de Bing Grounding es compatible únicamente con ciertos modelos de Azure OpenAI (por ejemplo, `gpt-4o`).\n",
        "> \n",
        "> Asegúrate de utilizar un modelo compatible y de configurar el encabezado `\"x-ms-enable-preview\": \"true\"`.\n",
        "\n",
        "## Requisitos Previos\n",
        "- Haber completado el cuaderno básico de Agentes - [1-basics.ipynb](1-basics.ipynb)\n",
        "- Tener configurado en Azure AI Foundry una conexión de Bing Grounding, la cual debe ser provisionada a través del portal de Azure. Consulta la documentación en [\"Configuración de Bing Grounding\"](https://learn.microsoft.com/en-us/azure/ai-services/agents/how-to/tools/bing-grounding?tabs=python&pivots=overview#setup) para obtener más información.\n",
        "\n",
        "\n",
        "- Se requiere un archivo `.env` en el directorio superior que contenga:\n",
        "  ```bash\n",
        "  PROJECT_CONNECTION_STRING=<tu-cadena-de-conexión>\n",
        "  BING_CONNECTION_NAME=<nombre-de-tu-conexión-bing>\n",
        "  ```\n",
        "\n",
        "## ¡Explorando Bing Grounding!\n",
        "Integraremos los resultados de búsqueda de **Bing Grounding** en nuestro agente para que pueda obtener contexto adicional desde la web. Se almacenará y mostrará el enlace de consulta de Bing, garantizando la transparencia en el proceso. 🎉\n"
      ]
    },
    {
      "cell_type": "markdown",
      "id": "setup-initialize",
      "metadata": {},
      "source": [
        "## 1. Initial Setup\n",
        "Cargaremos las variables de entorno desde `.env` e inicializaremos nuestro `AIProjectClient` para gestionar agentes."
      ]
    },
    {
      "cell_type": "code",
      "execution_count": 6,
      "id": "init-code",
      "metadata": {},
      "outputs": [
        {
          "name": "stdout",
          "output_type": "stream",
          "text": [
            "✅ Successfully initialized AIProjectClient\n"
          ]
        }
      ],
      "source": [
        "import os\n",
        "import time\n",
        "from pathlib import Path\n",
        "\n",
        "from dotenv import load_dotenv\n",
        "from azure.identity import DefaultAzureCredential\n",
        "from azure.ai.projects import AIProjectClient\n",
        "from azure.ai.projects.models import BingGroundingTool, MessageTextContent\n",
        "from azure.core.credentials import AzureKeyCredential\n",
        "\n",
        "# Load environment variables\n",
        "notebook_path = Path().absolute()\n",
        "parent_dir = notebook_path.parent\n",
        "load_dotenv(parent_dir / '../.env')\n",
        "\n",
        "# Initialize AIProjectClient\n",
        "try:\n",
        "    project_client = AIProjectClient.from_connection_string(\n",
        "        credential=DefaultAzureCredential(),\n",
        "        conn_str=os.environ.get(\"PROJECT_CONNECTION_STRING\")\n",
        "    )\n",
        "    print(\"✅ Successfully initialized AIProjectClient\")\n",
        "except Exception as e:\n",
        "    print(f\"❌ Error initializing project client: {e}\")"
      ]
    },
    {
      "cell_type": "markdown",
      "id": "create-agent-with-bing-grounding",
      "metadata": {},
      "source": [
        "## 2. Create Bing-Grounded Agent 🌐\n",
        "\n",
        "Recuperaremos nuestra conexión de Bing desde AI Foundry y usaremos `BingGroundingTool` para permitir que nuestro agente busque en la web. Luego crearemos un nuevo agente con descargos de responsabilidad sobre no ser médico, etc.\n",
        "\n",
        "Asegúrate de que tu `MODEL_DEPLOYMENT_NAME` esté configurado a un modelo compatible con Bing (por ejemplo, `gpt-4o-0513`) y de añadir el encabezado    `{\"x-ms-enable-preview\": \"true\"}.`"
      ]
    },
    {
      "cell_type": "code",
      "execution_count": null,
      "id": "agent-bing-code",
      "metadata": {},
      "outputs": [
        {
          "name": "stdout",
          "output_type": "stream",
          "text": [
            "Bing Connection ID: /subscriptions/06d043e2-5a2e-46bf-bf48-fffee525f377/resourceGroups/lab-ai-foundry-sena/providers/Microsoft.MachineLearningServices/workspaces/project-aytvwwktokp6w/connections/bingsearchaytvwwktokp6w\n",
            "❌ Error creating Bing-grounded agent: (PermissionDenied) Principal does not have access to API/Operation.\n",
            "Code: PermissionDenied\n",
            "Message: Principal does not have access to API/Operation.\n"
          ]
        }
      ],
      "source": [
        "def create_bing_grounded_agent():\n",
        "    \"\"\"Create an agent that can use Bing to ground queries with up-to-date info.\"\"\"\n",
        "    try:\n",
        "        # 1. Retrieve Bing connection from your AI Foundry project\n",
        "        bing_conn_name = os.environ.get(\"BING_CONNECTION_NAME\")\n",
        "        if not bing_conn_name:\n",
        "            raise ValueError(\"BING_CONNECTION_NAME not set in .env\")\n",
        "\n",
        "        bing_connection = project_client.connections.get(connection_name=bing_conn_name)\n",
        "        conn_id = bing_connection.id\n",
        "        print(f\"Bing Connection ID: {conn_id}\")\n",
        "\n",
        "        # 2. Initialize Bing grounding tool\n",
        "        bing_tool = BingGroundingTool(connection_id=conn_id)\n",
        "\n",
        "        # 3. Create an agent that can search with Bing\n",
        "        # agent = project_client.agents.create_agent(\n",
        "        #     model=\"gpt-4o\",\n",
        "        #     name=\"education-bing-agent\",\n",
        "        #     instructions=\"\"\"\n",
        "        #     Eres VirtualSena, un asesor virtual amigable especializado en recomendar cursos virtuales para el SENA, con acceso a búsquedas en Bing.\n",
        "        #     Recuerda siempre a los usuarios: No soy un asesor académico oficial.\n",
        "        #     Proporciona recomendaciones claras de cursos, explica brevemente cada uno y anima a los usuarios a explorar oportunidades de aprendizaje virtual.\n",
        "            \n",
        "        #     Siempre:\n",
        "        #     1. Proporciona descargos de responsabilidad indicando que no eres un profesional del SENA.\n",
        "        #     2. Incentiva la consulta profesional.\n",
        "        #     3. Utiliza Bing para referencias en tiempo real.\n",
        "        #     4. Ofrece respuestas breves y útiles.\n",
        "        #     \"\"\",\n",
        "        #     tools=bing_tool.definitions,\n",
        "        #     # Must pass special preview header to use Bing grounding (subject to change)\n",
        "        #     headers={\"x-ms-enable-preview\": \"true\"},\n",
        "        # )\n",
        "\n",
        "        # print(f\"🎉 Created Bing-grounded agent, ID: {agent.id}\")\n",
        "        return bing_tool  #agent\n",
        "    except Exception as e:\n",
        "        print(f\"❌ Error creating Bing-grounded agent: {e}\")\n",
        "        return None\n",
        "\n",
        "# Create our Bing-based agent\n",
        "bing_agent = create_bing_grounded_agent()"
      ]
    },
    {
      "cell_type": "markdown",
      "id": "create-thread",
      "metadata": {},
      "source": [
        "## 3. Starting Threads & Asking Questions 💬\n",
        "\n",
        "Crearemos hilos de conversación para cada consulta del usuario, permitiendo que el agente realice búsquedas con Bing para encontrar información relevante. Almacenaremos todos los pares `(thread, run)` en una lista para poder revisarlos en el siguiente paso."
      ]
    },
    {
      "cell_type": "code",
      "execution_count": null,
      "id": "create-thread-code",
      "metadata": {},
      "outputs": [],
      "source": [
        "bing_threads = []\n",
        "\n",
        "def ask_bing_question(agent, user_query):\n",
        "    try:\n",
        "        thread = project_client.agents.create_thread()\n",
        "        print(f\"📝 Created a conversation thread, ID: {thread.id}\")\n",
        "\n",
        "        # Post user query as a message\n",
        "        user_message = project_client.agents.create_message(\n",
        "            thread_id=thread.id,\n",
        "            role=\"user\",\n",
        "            content=user_query\n",
        "        )\n",
        "        print(f\"📨 Created user message with query: '{user_query}'\")\n",
        "\n",
        "        # Process the query with the agent\n",
        "        run = project_client.agents.create_and_process_run(\n",
        "            thread_id=thread.id,\n",
        "            assistant_id=agent.id\n",
        "        )\n",
        "        print(f\"🤖 Run finished with status: {run.status}\\n\")\n",
        "        if run.last_error:\n",
        "            print(f\"Error detail: {run.last_error}\\n\")\n",
        "\n",
        "        return thread, run\n",
        "    except Exception as e:\n",
        "        print(f\"❌ Error asking Bing question: {e}\")\n",
        "        return None, None\n",
        "\n",
        "if bing_agent:\n",
        "    # We'll ask a few fun questions!\n",
        "    questions = [\n",
        "        \"What are some new HIIT workout trends I should know about?\",\n",
        "        \"What's the current WHO recommendation for sugar intake?\",\n",
        "        \"Any news on intermittent fasting for weight management?\"\n",
        "    ]\n",
        "\n",
        "    for q in questions:\n",
        "        thr, rn = ask_bing_question(bing_agent, q)\n",
        "        if thr and rn:\n",
        "            bing_threads.append((thr, rn))"
      ]
    },
    {
      "cell_type": "markdown",
      "id": "view-thread",
      "metadata": {},
      "source": [
        "## 4. Viewing Bing-Grounded Answers & Query URLs\n",
        "We’ll retrieve each thread's messages, printing both the user queries and the agent's responses. We'll also fetch the run steps to display the **Bing Search Query URL** (so you can comply with the requirement to show where the data came from). You can replace `api.bing.microsoft.com` with `www.bing.com` to form a user-friendly link.\n",
        "\n",
        "Because `RunStep` objects do **not** have `.details`, we look instead for `'request_url'` in `step[\"parameters\"]`. If found, it's presumably the Bing step."
      ]
    },
    {
      "cell_type": "code",
      "execution_count": null,
      "id": "view-thread-code",
      "metadata": {},
      "outputs": [],
      "source": [
        "def view_bing_conversation(thread_id, run_id):\n",
        "    try:\n",
        "        # Print conversation\n",
        "        messages = project_client.agents.list_messages(thread_id=thread_id)\n",
        "        print(\"\\n🗣️ Conversation for thread:\", thread_id)\n",
        "        reversed_msgs = list(reversed(messages.data))  # oldest first\n",
        "        for msg in reversed_msgs:\n",
        "            role = msg.role.upper()\n",
        "            if msg.content:\n",
        "                for c in msg.content:\n",
        "                    if hasattr(c, 'text') and c.text:\n",
        "                        print(f\"{role}: {c.text.value}\\n\")\n",
        "\n",
        "        # Retrieve run steps to get Bing search query link\n",
        "        run_steps = project_client.agents.list_run_steps(thread_id=thread_id, run_id=run_id)\n",
        "        steps_data = run_steps.get('data', [])\n",
        "        if steps_data:\n",
        "            print(\"\\n🔎 Bing run steps:\")\n",
        "            for step in steps_data:\n",
        "                # 'parameters' is typically where BingGroundingTool stores request_url\n",
        "                params = step.get('parameters', {})\n",
        "                if 'request_url' in params:\n",
        "                    original_url = params['request_url']\n",
        "                    friendly_url = original_url.replace(\"api.bing.microsoft.com\", \"www.bing.com\")\n",
        "                    print(f\"    Bing search URL: {friendly_url}\")\n",
        "        else:\n",
        "            print(\"No run step data found for this conversation.\")\n",
        "    except Exception as e:\n",
        "        print(f\"❌ Error viewing Bing conversation: {e}\")\n",
        "\n",
        "# Display all queries and agent responses\n",
        "if bing_threads:\n",
        "    for (thr, rn) in bing_threads:\n",
        "        view_bing_conversation(thr.id, rn.id)"
      ]
    },
    {
      "cell_type": "markdown",
      "id": "cleanup",
      "metadata": {},
      "source": [
        "## 5. Cleanup & Best Practices\n",
        "You can optionally delete the agent once you're done. In production, you might keep it around for repeated usage.\n",
        "\n",
        "### Best Practices\n",
        "1. **Accuracy** – Bing search results may include disclaimers or partial info. Encourage verification with credible sources.\n",
        "2. **Bing Query Display** – For compliance with Bing's use and display requirements, show both **website URLs** (in the agent's response) and **Bing search query URLs** (shown above). If the model includes citations, display them as well.\n",
        "3. **Limits** – Keep an eye on usage, rate limits, or policy constraints for Bing.\n",
        "4. **Privacy** – Filter search queries to avoid sending sensitive data.\n",
        "5. **Evaluations** – Use `azure-ai-evaluation` for iterative improvement.\n"
      ]
    },
    {
      "cell_type": "code",
      "execution_count": null,
      "id": "cleanup-code",
      "metadata": {},
      "outputs": [],
      "source": [
        "def cleanup_bing_agent(agent):\n",
        "    if agent:\n",
        "        try:\n",
        "            project_client.agents.delete_agent(agent.id)\n",
        "            print(f\"🗑️ Deleted Bing-grounded agent: {agent.name}\")\n",
        "        except Exception as e:\n",
        "            print(f\"❌ Error cleaning up agent: {e}\")\n",
        "    else:\n",
        "        print(\"No agent to clean up.\")\n",
        "\n",
        "# Uncomment if you want to remove the agent now\n",
        "cleanup_bing_agent(bing_agent)"
      ]
    },
    {
      "cell_type": "markdown",
      "id": "final-note",
      "metadata": {},
      "source": [
        "# Congratulations! 🎉\n",
        "You've built a **Bing-Grounded Health & Fitness Agent** that can:\n",
        "1. **Search** the web with Bing.\n",
        "2. **Answer** health/fitness questions with disclaimers.\n",
        "3. **Include** references and Bing search query links.\n",
        "\n",
        "Feel free to expand this approach by combining the BingGroundingTool with other tools (e.g., **FileSearchTool**, **CodeInterpreterTool**) to build a robust advisor.\n",
        "\n",
        "#### Let's proceed to [5-agents-aisearch.ipynb](./5-agents-aisearch.ipynb)"
      ]
    }
  ],
  "metadata": {
    "kernelspec": {
      "display_name": ".venv",
      "language": "python",
      "name": "python3"
    },
    "language_info": {
      "codemirror_mode": {
        "name": "ipython",
        "version": 3
      },
      "file_extension": ".py",
      "mimetype": "text/x-python",
      "name": "python",
      "nbconvert_exporter": "python",
      "pygments_lexer": "ipython3",
      "version": "3.11.0rc2"
    }
  },
  "nbformat": 4,
  "nbformat_minor": 5
}
